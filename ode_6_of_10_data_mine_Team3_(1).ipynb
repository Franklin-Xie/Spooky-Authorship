{
  "cells": [
    {
      "cell_type": "code",
      "execution_count": null,
      "id": "65a47340-96f7-4dd5-883b-ff240a426d98",
      "metadata": {
        "colab": {
          "base_uri": "https://localhost:8080/"
        },
        "id": "65a47340-96f7-4dd5-883b-ff240a426d98",
        "outputId": "37fd4117-f8e3-42c0-fa54-3459f80eabb5"
      },
      "outputs": [
        {
          "output_type": "stream",
          "name": "stdout",
          "text": [
            "root\n",
            " |-- id: string (nullable = true)\n",
            " |-- text: string (nullable = true)\n",
            " |-- author: string (nullable = true)\n",
            "\n",
            "+-------+----------------------------------------------------------------------------------------------------------------------------------------------------------------------------------------------------------------------------------------------------------------------------------------------------------------------------------------------------+------+\n",
            "|id     |text                                                                                                                                                                                                                                                                                                                                                |author|\n",
            "+-------+----------------------------------------------------------------------------------------------------------------------------------------------------------------------------------------------------------------------------------------------------------------------------------------------------------------------------------------------------+------+\n",
            "|id27763|How lovely is spring As we looked from Windsor Terrace on the sixteen fertile counties spread beneath, speckled by happy cottages and wealthier towns, all looked as in former years, heart cheering and fair.                                                                                                                                      |MWS   |\n",
            "|id13515|The surcingle hung in ribands from my body.                                                                                                                                                                                                                                                                                                         |EAP   |\n",
            "|id16737|\"He shall find that I can feel my injuries; he shall learn to dread my revenge\"\" A few days after he arrived.\"                                                                                                                                                                                                                                      |MWS   |\n",
            "|id19764|Herbert West needed fresh bodies because his life work was the reanimation of the dead.                                                                                                                                                                                                                                                             |HPL   |\n",
            "|id08441|To these speeches they gave, of course, their own interpretation; fancying, no doubt, that at all events I should come into possession of vast quantities of ready money; and provided I paid them all I owed, and a trifle more, in consideration of their services, I dare say they cared very little what became of either my soul or my carcass.|EAP   |\n",
            "+-------+----------------------------------------------------------------------------------------------------------------------------------------------------------------------------------------------------------------------------------------------------------------------------------------------------------------------------------------------------+------+\n",
            "only showing top 5 rows\n",
            "\n"
          ]
        }
      ],
      "source": [
        "import os\n",
        "\n",
        "from pyspark.sql import SparkSession\n",
        "# Initialize Spark session\n",
        "spark = SparkSession.builder \\\n",
        "    .appName(\"SpookyAuthorIdentification\") \\\n",
        "    .config(\"spark.driver.memory\", \"8g\") \\\n",
        "    .config(\"spark.executor.memory\", \"4g\") \\\n",
        "    .config(\"spark.driver.maxResultSize\", \"12g\") \\\n",
        "    .getOrCreate()\n",
        "\n",
        "\n",
        "# Load the CSV data into a Spark DataFrame\n",
        "file_path = \"train.csv\"\n",
        "df = spark.read.csv(file_path, header=True, inferSchema=True)\n",
        "\n",
        "# Reduce the size of the dataframe\n",
        "# This was done because the Machine Learning algorithms were taking very long to run on the original dataset\n",
        "df = df.sample(fraction=0.5, seed=42)\n",
        "\n",
        "# Show the schema and the first few rows of the Spark DataFrame\n",
        "df.printSchema()\n",
        "df.show(5, truncate=False)\n"
      ]
    },
    {
      "cell_type": "code",
      "execution_count": null,
      "id": "eac0c8f2-14e5-499e-b9ff-0e9b76c06308",
      "metadata": {
        "colab": {
          "base_uri": "https://localhost:8080/"
        },
        "id": "eac0c8f2-14e5-499e-b9ff-0e9b76c06308",
        "outputId": "78e94d35-3e64-4f5e-e5db-def45ed6c9c8"
      },
      "outputs": [
        {
          "output_type": "stream",
          "name": "stdout",
          "text": [
            "+------------------------------------------------------------------------------------------------------------------------------------------------------------------------------------------------------------------------------------------------------------------------------------------------------------------------------------------------------------------------------------------------------------------+\n",
            "|tokens                                                                                                                                                                                                                                                                                                                                                                                                            |\n",
            "+------------------------------------------------------------------------------------------------------------------------------------------------------------------------------------------------------------------------------------------------------------------------------------------------------------------------------------------------------------------------------------------------------------------+\n",
            "|[how, lovely, is, spring, as, we, looked, from, windsor, terrace, on, the, sixteen, fertile, counties, spread, beneath,, speckled, by, happy, cottages, and, wealthier, towns,, all, looked, as, in, former, years,, heart, cheering, and, fair.]                                                                                                                                                                 |\n",
            "|[the, surcingle, hung, in, ribands, from, my, body.]                                                                                                                                                                                                                                                                                                                                                              |\n",
            "|[\"he, shall, find, that, i, can, feel, my, injuries;, he, shall, learn, to, dread, my, revenge\"\", a, few, days, after, he, arrived.\"]                                                                                                                                                                                                                                                                             |\n",
            "|[herbert, west, needed, fresh, bodies, because, his, life, work, was, the, reanimation, of, the, dead.]                                                                                                                                                                                                                                                                                                           |\n",
            "|[to, these, speeches, they, gave,, of, course,, their, own, interpretation;, fancying,, no, doubt,, that, at, all, events, i, should, come, into, possession, of, vast, quantities, of, ready, money;, and, provided, i, paid, them, all, i, owed,, and, a, trifle, more,, in, consideration, of, their, services,, i, dare, say, they, cared, very, little, what, became, of, either, my, soul, or, my, carcass.]|\n",
            "+------------------------------------------------------------------------------------------------------------------------------------------------------------------------------------------------------------------------------------------------------------------------------------------------------------------------------------------------------------------------------------------------------------------+\n",
            "only showing top 5 rows\n",
            "\n"
          ]
        }
      ],
      "source": [
        "from pyspark.ml.feature import Tokenizer\n",
        "\n",
        "# Tokenize the text column\n",
        "tokenizer = Tokenizer(inputCol=\"text\", outputCol=\"tokens\")\n",
        "df_tokens = tokenizer.transform(df)\n",
        "\n",
        "# Show the tokenized text\n",
        "df_tokens.select(\"tokens\").show(5, truncate=False)\n"
      ]
    },
    {
      "cell_type": "code",
      "execution_count": null,
      "id": "01f246fc-a85f-43a8-a09d-816e70ddff72",
      "metadata": {
        "colab": {
          "base_uri": "https://localhost:8080/"
        },
        "id": "01f246fc-a85f-43a8-a09d-816e70ddff72",
        "outputId": "f8bfdd2c-08b8-451a-d157-a78fdb37aeff"
      },
      "outputs": [
        {
          "output_type": "stream",
          "name": "stdout",
          "text": [
            "+---------------------------------------------------------------------------------------------------------------------------------------------------------------------------------------------------------------------------------------------------+\n",
            "|filtered_tokens                                                                                                                                                                                                                                    |\n",
            "+---------------------------------------------------------------------------------------------------------------------------------------------------------------------------------------------------------------------------------------------------+\n",
            "|[lovely, spring, looked, windsor, terrace, sixteen, fertile, counties, spread, beneath,, speckled, happy, cottages, wealthier, towns,, looked, former, years,, heart, cheering, fair.]                                                             |\n",
            "|[surcingle, hung, ribands, body.]                                                                                                                                                                                                                  |\n",
            "|[\"he, shall, find, feel, injuries;, shall, learn, dread, revenge\"\", days, arrived.\"]                                                                                                                                                               |\n",
            "|[herbert, west, needed, fresh, bodies, life, work, reanimation, dead.]                                                                                                                                                                             |\n",
            "|[speeches, gave,, course,, interpretation;, fancying,, doubt,, events, come, possession, vast, quantities, ready, money;, provided, paid, owed,, trifle, more,, consideration, services,, dare, say, cared, little, became, either, soul, carcass.]|\n",
            "+---------------------------------------------------------------------------------------------------------------------------------------------------------------------------------------------------------------------------------------------------+\n",
            "only showing top 5 rows\n",
            "\n"
          ]
        }
      ],
      "source": [
        "from pyspark.ml.feature import StopWordsRemover\n",
        "\n",
        "# Customize stopwords list to include pronouns\n",
        "stopwords = StopWordsRemover.loadDefaultStopWords(\"english\") + ['I', 'you', 'he', 'she', 'it', 'we', 'they', 'me', 'him', 'her']\n",
        "\n",
        "# Remove stopwords from the tokenized text\n",
        "remover = StopWordsRemover(inputCol=\"tokens\", outputCol=\"filtered_tokens\", stopWords=stopwords)\n",
        "df_cleaned = remover.transform(df_tokens)\n",
        "\n",
        "# Show the cleaned tokens\n",
        "df_cleaned.select(\"filtered_tokens\").show(5, truncate=False)\n"
      ]
    },
    {
      "cell_type": "code",
      "execution_count": null,
      "id": "8b176dde-dcbc-4edd-bd29-79d42e29ba4b",
      "metadata": {
        "id": "8b176dde-dcbc-4edd-bd29-79d42e29ba4b"
      },
      "outputs": [],
      "source": [
        "#Stage 2 Feature Extraction\n",
        "\n",
        "#import required functions\n",
        "from pyspark.ml.feature import StopWordsRemover, Tokenizer\n",
        "from pyspark.ml.feature import CountVectorizer, IDF\n",
        "from pyspark.ml.feature import Normalizer\n",
        "from pyspark.ml import Pipeline\n",
        "from pyspark.ml.feature import StringIndexer\n",
        "from sklearn.decomposition import PCA\n",
        "\n",
        "#TF-IDF calculation\n",
        "vectorizer = CountVectorizer(inputCol=\"filtered_tokens\", outputCol=\"vectorized_tokens\")\n",
        "idf = IDF(inputCol=\"vectorized_tokens\", outputCol=\"tfidf\")\n",
        "normalizer = Normalizer(inputCol=\"tfidf\", outputCol=\"normalized_features\")\n",
        "\n",
        "#The author column needed to be in numerical format for the machine learning algorithms later\n",
        "indexer = StringIndexer(inputCol=\"author\", outputCol=\"label\")\n",
        "\n",
        "#The dataframe has already gone through the tokenizer and remover steps at this point, so they don't need to\n",
        "#be included in the pipeline\n",
        "pipeline = Pipeline(stages=[vectorizer, idf, normalizer, indexer])\n",
        "\n",
        "processed_data = pipeline.fit(df_cleaned).transform(df_cleaned)\n",
        "\n"
      ]
    },
    {
      "cell_type": "code",
      "source": [
        "# Stage 3 Machine Learning\n",
        "\n",
        "# Random Forest\n",
        "from pyspark.ml.classification import RandomForestClassifier\n",
        "\n",
        "# Split the data\n",
        "train_data, test_data = processed_data.randomSplit([0.8, 0.2], seed=42)\n",
        "\n",
        "# Random Forest\n",
        "# Used 100 trees and the normalized_features column that was developed\n",
        "rf = RandomForestClassifier(labelCol=\"label\", featuresCol=\"normalized_features\", numTrees=100)\n",
        "rf_model = rf.fit(train_data)\n",
        "\n",
        "predictions = rf_model.transform(test_data)\n",
        "\n"
      ],
      "metadata": {
        "id": "5ikQUnA_7Ant"
      },
      "id": "5ikQUnA_7Ant",
      "execution_count": null,
      "outputs": []
    },
    {
      "cell_type": "code",
      "source": [
        "# Logistic Regression\n",
        "from pyspark.ml.classification import LogisticRegression\n",
        "from pyspark.ml.feature import PCA\n",
        "\n",
        "print(processed_data.printSchema())\n",
        "pca = PCA(k=25, inputCol=\"normalized_features\", outputCol=\"pca_features\")\n",
        "processed_data = pca.fit(processed_data).transform(processed_data)\n",
        "\n",
        "#Used the normalized_features column and 100 iterations\n",
        "logistic_regression = LogisticRegression(featuresCol=\"pca_features\", labelCol=\"label\", maxIter=50)\n",
        "\n",
        "train_data, test_data = processed_data.randomSplit([0.8, 0.2], seed=42)\n",
        "\n",
        "\n",
        "lr_model = logistic_regression.fit(train_data)\n",
        "\n",
        "lr_predictions = lr_model.transform(test_data)"
      ],
      "metadata": {
        "id": "QSsNGz1AELpB",
        "colab": {
          "base_uri": "https://localhost:8080/",
          "height": 1000
        },
        "outputId": "3644207c-93a9-47a9-c457-6ce86d61442f"
      },
      "id": "QSsNGz1AELpB",
      "execution_count": null,
      "outputs": [
        {
          "output_type": "stream",
          "name": "stdout",
          "text": [
            "root\n",
            " |-- id: string (nullable = true)\n",
            " |-- text: string (nullable = true)\n",
            " |-- author: string (nullable = true)\n",
            " |-- tokens: array (nullable = true)\n",
            " |    |-- element: string (containsNull = true)\n",
            " |-- filtered_tokens: array (nullable = true)\n",
            " |    |-- element: string (containsNull = true)\n",
            " |-- vectorized_tokens: vector (nullable = true)\n",
            " |-- tfidf: vector (nullable = true)\n",
            " |-- normalized_features: vector (nullable = true)\n",
            " |-- label: double (nullable = false)\n",
            "\n",
            "None\n"
          ]
        },
        {
          "output_type": "stream",
          "name": "stderr",
          "text": [
            "ERROR:root:Exception while sending command.\n",
            "Traceback (most recent call last):\n",
            "  File \"/usr/local/lib/python3.10/dist-packages/pyspark/errors/exceptions/captured.py\", line 179, in deco\n",
            "    return f(*a, **kw)\n",
            "  File \"/usr/local/lib/python3.10/dist-packages/py4j/protocol.py\", line 326, in get_return_value\n",
            "    raise Py4JJavaError(\n",
            "py4j.protocol.Py4JJavaError: <unprintable Py4JJavaError object>\n",
            "\n",
            "During handling of the above exception, another exception occurred:\n",
            "\n",
            "Traceback (most recent call last):\n",
            "  File \"/usr/local/lib/python3.10/dist-packages/py4j/clientserver.py\", line 516, in send_command\n",
            "    raise Py4JNetworkError(\"Answer from Java side is empty\")\n",
            "py4j.protocol.Py4JNetworkError: Answer from Java side is empty\n",
            "\n",
            "During handling of the above exception, another exception occurred:\n",
            "\n",
            "Traceback (most recent call last):\n",
            "  File \"/usr/local/lib/python3.10/dist-packages/py4j/java_gateway.py\", line 1038, in send_command\n",
            "    response = connection.send_command(command)\n",
            "  File \"/usr/local/lib/python3.10/dist-packages/py4j/clientserver.py\", line 539, in send_command\n",
            "    raise Py4JNetworkError(\n",
            "py4j.protocol.Py4JNetworkError: Error while sending or receiving\n"
          ]
        },
        {
          "output_type": "error",
          "ename": "Py4JError",
          "evalue": "org.apache.spark.util does not exist in the JVM",
          "traceback": [
            "\u001b[0;31m---------------------------------------------------------------------------\u001b[0m",
            "\u001b[0;31mPy4JJavaError\u001b[0m                             Traceback (most recent call last)",
            "\u001b[0;32m/usr/local/lib/python3.10/dist-packages/pyspark/errors/exceptions/captured.py\u001b[0m in \u001b[0;36mdeco\u001b[0;34m(*a, **kw)\u001b[0m\n\u001b[1;32m    178\u001b[0m         \u001b[0;32mtry\u001b[0m\u001b[0;34m:\u001b[0m\u001b[0;34m\u001b[0m\u001b[0;34m\u001b[0m\u001b[0m\n\u001b[0;32m--> 179\u001b[0;31m             \u001b[0;32mreturn\u001b[0m \u001b[0mf\u001b[0m\u001b[0;34m(\u001b[0m\u001b[0;34m*\u001b[0m\u001b[0ma\u001b[0m\u001b[0;34m,\u001b[0m \u001b[0;34m**\u001b[0m\u001b[0mkw\u001b[0m\u001b[0;34m)\u001b[0m\u001b[0;34m\u001b[0m\u001b[0;34m\u001b[0m\u001b[0m\n\u001b[0m\u001b[1;32m    180\u001b[0m         \u001b[0;32mexcept\u001b[0m \u001b[0mPy4JJavaError\u001b[0m \u001b[0;32mas\u001b[0m \u001b[0me\u001b[0m\u001b[0;34m:\u001b[0m\u001b[0;34m\u001b[0m\u001b[0;34m\u001b[0m\u001b[0m\n",
            "\u001b[0;32m/usr/local/lib/python3.10/dist-packages/py4j/protocol.py\u001b[0m in \u001b[0;36mget_return_value\u001b[0;34m(answer, gateway_client, target_id, name)\u001b[0m\n\u001b[1;32m    325\u001b[0m             \u001b[0;32mif\u001b[0m \u001b[0manswer\u001b[0m\u001b[0;34m[\u001b[0m\u001b[0;36m1\u001b[0m\u001b[0;34m]\u001b[0m \u001b[0;34m==\u001b[0m \u001b[0mREFERENCE_TYPE\u001b[0m\u001b[0;34m:\u001b[0m\u001b[0;34m\u001b[0m\u001b[0;34m\u001b[0m\u001b[0m\n\u001b[0;32m--> 326\u001b[0;31m                 raise Py4JJavaError(\n\u001b[0m\u001b[1;32m    327\u001b[0m                     \u001b[0;34m\"An error occurred while calling {0}{1}{2}.\\n\"\u001b[0m\u001b[0;34m.\u001b[0m\u001b[0;34m\u001b[0m\u001b[0;34m\u001b[0m\u001b[0m\n",
            "\u001b[0;31m<class 'str'>\u001b[0m: (<class 'ConnectionRefusedError'>, ConnectionRefusedError(111, 'Connection refused'))",
            "\nDuring handling of the above exception, another exception occurred:\n",
            "\u001b[0;31mPy4JError\u001b[0m                                 Traceback (most recent call last)",
            "\u001b[0;32m<ipython-input-5-5c4f1054796d>\u001b[0m in \u001b[0;36m<cell line: 7>\u001b[0;34m()\u001b[0m\n\u001b[1;32m      5\u001b[0m \u001b[0mprint\u001b[0m\u001b[0;34m(\u001b[0m\u001b[0mprocessed_data\u001b[0m\u001b[0;34m.\u001b[0m\u001b[0mprintSchema\u001b[0m\u001b[0;34m(\u001b[0m\u001b[0;34m)\u001b[0m\u001b[0;34m)\u001b[0m\u001b[0;34m\u001b[0m\u001b[0;34m\u001b[0m\u001b[0m\n\u001b[1;32m      6\u001b[0m \u001b[0mpca\u001b[0m \u001b[0;34m=\u001b[0m \u001b[0mPCA\u001b[0m\u001b[0;34m(\u001b[0m\u001b[0mk\u001b[0m\u001b[0;34m=\u001b[0m\u001b[0;36m25\u001b[0m\u001b[0;34m,\u001b[0m \u001b[0minputCol\u001b[0m\u001b[0;34m=\u001b[0m\u001b[0;34m\"normalized_features\"\u001b[0m\u001b[0;34m,\u001b[0m \u001b[0moutputCol\u001b[0m\u001b[0;34m=\u001b[0m\u001b[0;34m\"pca_features\"\u001b[0m\u001b[0;34m)\u001b[0m\u001b[0;34m\u001b[0m\u001b[0;34m\u001b[0m\u001b[0m\n\u001b[0;32m----> 7\u001b[0;31m \u001b[0mprocessed_data\u001b[0m \u001b[0;34m=\u001b[0m \u001b[0mpca\u001b[0m\u001b[0;34m.\u001b[0m\u001b[0mfit\u001b[0m\u001b[0;34m(\u001b[0m\u001b[0mprocessed_data\u001b[0m\u001b[0;34m)\u001b[0m\u001b[0;34m.\u001b[0m\u001b[0mtransform\u001b[0m\u001b[0;34m(\u001b[0m\u001b[0mprocessed_data\u001b[0m\u001b[0;34m)\u001b[0m\u001b[0;34m\u001b[0m\u001b[0;34m\u001b[0m\u001b[0m\n\u001b[0m\u001b[1;32m      8\u001b[0m \u001b[0;34m\u001b[0m\u001b[0m\n\u001b[1;32m      9\u001b[0m \u001b[0;31m#Used the normalized_features column and 100 iterations\u001b[0m\u001b[0;34m\u001b[0m\u001b[0;34m\u001b[0m\u001b[0m\n",
            "\u001b[0;32m/usr/local/lib/python3.10/dist-packages/pyspark/ml/base.py\u001b[0m in \u001b[0;36mfit\u001b[0;34m(self, dataset, params)\u001b[0m\n\u001b[1;32m    203\u001b[0m                 \u001b[0;32mreturn\u001b[0m \u001b[0mself\u001b[0m\u001b[0;34m.\u001b[0m\u001b[0mcopy\u001b[0m\u001b[0;34m(\u001b[0m\u001b[0mparams\u001b[0m\u001b[0;34m)\u001b[0m\u001b[0;34m.\u001b[0m\u001b[0m_fit\u001b[0m\u001b[0;34m(\u001b[0m\u001b[0mdataset\u001b[0m\u001b[0;34m)\u001b[0m\u001b[0;34m\u001b[0m\u001b[0;34m\u001b[0m\u001b[0m\n\u001b[1;32m    204\u001b[0m             \u001b[0;32melse\u001b[0m\u001b[0;34m:\u001b[0m\u001b[0;34m\u001b[0m\u001b[0;34m\u001b[0m\u001b[0m\n\u001b[0;32m--> 205\u001b[0;31m                 \u001b[0;32mreturn\u001b[0m \u001b[0mself\u001b[0m\u001b[0;34m.\u001b[0m\u001b[0m_fit\u001b[0m\u001b[0;34m(\u001b[0m\u001b[0mdataset\u001b[0m\u001b[0;34m)\u001b[0m\u001b[0;34m\u001b[0m\u001b[0;34m\u001b[0m\u001b[0m\n\u001b[0m\u001b[1;32m    206\u001b[0m         \u001b[0;32melse\u001b[0m\u001b[0;34m:\u001b[0m\u001b[0;34m\u001b[0m\u001b[0;34m\u001b[0m\u001b[0m\n\u001b[1;32m    207\u001b[0m             raise TypeError(\n",
            "\u001b[0;32m/usr/local/lib/python3.10/dist-packages/pyspark/ml/wrapper.py\u001b[0m in \u001b[0;36m_fit\u001b[0;34m(self, dataset)\u001b[0m\n\u001b[1;32m    379\u001b[0m \u001b[0;34m\u001b[0m\u001b[0m\n\u001b[1;32m    380\u001b[0m     \u001b[0;32mdef\u001b[0m \u001b[0m_fit\u001b[0m\u001b[0;34m(\u001b[0m\u001b[0mself\u001b[0m\u001b[0;34m,\u001b[0m \u001b[0mdataset\u001b[0m\u001b[0;34m:\u001b[0m \u001b[0mDataFrame\u001b[0m\u001b[0;34m)\u001b[0m \u001b[0;34m->\u001b[0m \u001b[0mJM\u001b[0m\u001b[0;34m:\u001b[0m\u001b[0;34m\u001b[0m\u001b[0;34m\u001b[0m\u001b[0m\n\u001b[0;32m--> 381\u001b[0;31m         \u001b[0mjava_model\u001b[0m \u001b[0;34m=\u001b[0m \u001b[0mself\u001b[0m\u001b[0;34m.\u001b[0m\u001b[0m_fit_java\u001b[0m\u001b[0;34m(\u001b[0m\u001b[0mdataset\u001b[0m\u001b[0;34m)\u001b[0m\u001b[0;34m\u001b[0m\u001b[0;34m\u001b[0m\u001b[0m\n\u001b[0m\u001b[1;32m    382\u001b[0m         \u001b[0mmodel\u001b[0m \u001b[0;34m=\u001b[0m \u001b[0mself\u001b[0m\u001b[0;34m.\u001b[0m\u001b[0m_create_model\u001b[0m\u001b[0;34m(\u001b[0m\u001b[0mjava_model\u001b[0m\u001b[0;34m)\u001b[0m\u001b[0;34m\u001b[0m\u001b[0;34m\u001b[0m\u001b[0m\n\u001b[1;32m    383\u001b[0m         \u001b[0;32mreturn\u001b[0m \u001b[0mself\u001b[0m\u001b[0;34m.\u001b[0m\u001b[0m_copyValues\u001b[0m\u001b[0;34m(\u001b[0m\u001b[0mmodel\u001b[0m\u001b[0;34m)\u001b[0m\u001b[0;34m\u001b[0m\u001b[0;34m\u001b[0m\u001b[0m\n",
            "\u001b[0;32m/usr/local/lib/python3.10/dist-packages/pyspark/ml/wrapper.py\u001b[0m in \u001b[0;36m_fit_java\u001b[0;34m(self, dataset)\u001b[0m\n\u001b[1;32m    376\u001b[0m \u001b[0;34m\u001b[0m\u001b[0m\n\u001b[1;32m    377\u001b[0m         \u001b[0mself\u001b[0m\u001b[0;34m.\u001b[0m\u001b[0m_transfer_params_to_java\u001b[0m\u001b[0;34m(\u001b[0m\u001b[0;34m)\u001b[0m\u001b[0;34m\u001b[0m\u001b[0;34m\u001b[0m\u001b[0m\n\u001b[0;32m--> 378\u001b[0;31m         \u001b[0;32mreturn\u001b[0m \u001b[0mself\u001b[0m\u001b[0;34m.\u001b[0m\u001b[0m_java_obj\u001b[0m\u001b[0;34m.\u001b[0m\u001b[0mfit\u001b[0m\u001b[0;34m(\u001b[0m\u001b[0mdataset\u001b[0m\u001b[0;34m.\u001b[0m\u001b[0m_jdf\u001b[0m\u001b[0;34m)\u001b[0m\u001b[0;34m\u001b[0m\u001b[0;34m\u001b[0m\u001b[0m\n\u001b[0m\u001b[1;32m    379\u001b[0m \u001b[0;34m\u001b[0m\u001b[0m\n\u001b[1;32m    380\u001b[0m     \u001b[0;32mdef\u001b[0m \u001b[0m_fit\u001b[0m\u001b[0;34m(\u001b[0m\u001b[0mself\u001b[0m\u001b[0;34m,\u001b[0m \u001b[0mdataset\u001b[0m\u001b[0;34m:\u001b[0m \u001b[0mDataFrame\u001b[0m\u001b[0;34m)\u001b[0m \u001b[0;34m->\u001b[0m \u001b[0mJM\u001b[0m\u001b[0;34m:\u001b[0m\u001b[0;34m\u001b[0m\u001b[0;34m\u001b[0m\u001b[0m\n",
            "\u001b[0;32m/usr/local/lib/python3.10/dist-packages/py4j/java_gateway.py\u001b[0m in \u001b[0;36m__call__\u001b[0;34m(self, *args)\u001b[0m\n\u001b[1;32m   1320\u001b[0m \u001b[0;34m\u001b[0m\u001b[0m\n\u001b[1;32m   1321\u001b[0m         \u001b[0manswer\u001b[0m \u001b[0;34m=\u001b[0m \u001b[0mself\u001b[0m\u001b[0;34m.\u001b[0m\u001b[0mgateway_client\u001b[0m\u001b[0;34m.\u001b[0m\u001b[0msend_command\u001b[0m\u001b[0;34m(\u001b[0m\u001b[0mcommand\u001b[0m\u001b[0;34m)\u001b[0m\u001b[0;34m\u001b[0m\u001b[0;34m\u001b[0m\u001b[0m\n\u001b[0;32m-> 1322\u001b[0;31m         return_value = get_return_value(\n\u001b[0m\u001b[1;32m   1323\u001b[0m             answer, self.gateway_client, self.target_id, self.name)\n\u001b[1;32m   1324\u001b[0m \u001b[0;34m\u001b[0m\u001b[0m\n",
            "\u001b[0;32m/usr/local/lib/python3.10/dist-packages/pyspark/errors/exceptions/captured.py\u001b[0m in \u001b[0;36mdeco\u001b[0;34m(*a, **kw)\u001b[0m\n\u001b[1;32m    179\u001b[0m             \u001b[0;32mreturn\u001b[0m \u001b[0mf\u001b[0m\u001b[0;34m(\u001b[0m\u001b[0;34m*\u001b[0m\u001b[0ma\u001b[0m\u001b[0;34m,\u001b[0m \u001b[0;34m**\u001b[0m\u001b[0mkw\u001b[0m\u001b[0;34m)\u001b[0m\u001b[0;34m\u001b[0m\u001b[0;34m\u001b[0m\u001b[0m\n\u001b[1;32m    180\u001b[0m         \u001b[0;32mexcept\u001b[0m \u001b[0mPy4JJavaError\u001b[0m \u001b[0;32mas\u001b[0m \u001b[0me\u001b[0m\u001b[0;34m:\u001b[0m\u001b[0;34m\u001b[0m\u001b[0;34m\u001b[0m\u001b[0m\n\u001b[0;32m--> 181\u001b[0;31m             \u001b[0mconverted\u001b[0m \u001b[0;34m=\u001b[0m \u001b[0mconvert_exception\u001b[0m\u001b[0;34m(\u001b[0m\u001b[0me\u001b[0m\u001b[0;34m.\u001b[0m\u001b[0mjava_exception\u001b[0m\u001b[0;34m)\u001b[0m\u001b[0;34m\u001b[0m\u001b[0;34m\u001b[0m\u001b[0m\n\u001b[0m\u001b[1;32m    182\u001b[0m             \u001b[0;32mif\u001b[0m \u001b[0;32mnot\u001b[0m \u001b[0misinstance\u001b[0m\u001b[0;34m(\u001b[0m\u001b[0mconverted\u001b[0m\u001b[0;34m,\u001b[0m \u001b[0mUnknownException\u001b[0m\u001b[0;34m)\u001b[0m\u001b[0;34m:\u001b[0m\u001b[0;34m\u001b[0m\u001b[0;34m\u001b[0m\u001b[0m\n\u001b[1;32m    183\u001b[0m                 \u001b[0;31m# Hide where the exception came from that shows a non-Pythonic\u001b[0m\u001b[0;34m\u001b[0m\u001b[0;34m\u001b[0m\u001b[0m\n",
            "\u001b[0;32m/usr/local/lib/python3.10/dist-packages/pyspark/errors/exceptions/captured.py\u001b[0m in \u001b[0;36mconvert_exception\u001b[0;34m(e)\u001b[0m\n\u001b[1;32m    155\u001b[0m \u001b[0;34m\u001b[0m\u001b[0m\n\u001b[1;32m    156\u001b[0m     \u001b[0mc\u001b[0m\u001b[0;34m:\u001b[0m \u001b[0mPy4JJavaError\u001b[0m \u001b[0;34m=\u001b[0m \u001b[0me\u001b[0m\u001b[0;34m.\u001b[0m\u001b[0mgetCause\u001b[0m\u001b[0;34m(\u001b[0m\u001b[0;34m)\u001b[0m\u001b[0;34m\u001b[0m\u001b[0;34m\u001b[0m\u001b[0m\n\u001b[0;32m--> 157\u001b[0;31m     \u001b[0mstacktrace\u001b[0m\u001b[0;34m:\u001b[0m \u001b[0mstr\u001b[0m \u001b[0;34m=\u001b[0m \u001b[0mjvm\u001b[0m\u001b[0;34m.\u001b[0m\u001b[0morg\u001b[0m\u001b[0;34m.\u001b[0m\u001b[0mapache\u001b[0m\u001b[0;34m.\u001b[0m\u001b[0mspark\u001b[0m\u001b[0;34m.\u001b[0m\u001b[0mutil\u001b[0m\u001b[0;34m.\u001b[0m\u001b[0mUtils\u001b[0m\u001b[0;34m.\u001b[0m\u001b[0mexceptionString\u001b[0m\u001b[0;34m(\u001b[0m\u001b[0me\u001b[0m\u001b[0;34m)\u001b[0m\u001b[0;34m\u001b[0m\u001b[0;34m\u001b[0m\u001b[0m\n\u001b[0m\u001b[1;32m    158\u001b[0m     if c is not None and (\n\u001b[1;32m    159\u001b[0m         \u001b[0mis_instance_of\u001b[0m\u001b[0;34m(\u001b[0m\u001b[0mgw\u001b[0m\u001b[0;34m,\u001b[0m \u001b[0mc\u001b[0m\u001b[0;34m,\u001b[0m \u001b[0;34m\"org.apache.spark.api.python.PythonException\"\u001b[0m\u001b[0;34m)\u001b[0m\u001b[0;34m\u001b[0m\u001b[0;34m\u001b[0m\u001b[0m\n",
            "\u001b[0;32m/usr/local/lib/python3.10/dist-packages/py4j/java_gateway.py\u001b[0m in \u001b[0;36m__getattr__\u001b[0;34m(self, name)\u001b[0m\n\u001b[1;32m   1662\u001b[0m                 answer[proto.CLASS_FQN_START:], self._gateway_client)\n\u001b[1;32m   1663\u001b[0m         \u001b[0;32melse\u001b[0m\u001b[0;34m:\u001b[0m\u001b[0;34m\u001b[0m\u001b[0;34m\u001b[0m\u001b[0m\n\u001b[0;32m-> 1664\u001b[0;31m             \u001b[0;32mraise\u001b[0m \u001b[0mPy4JError\u001b[0m\u001b[0;34m(\u001b[0m\u001b[0;34m\"{0} does not exist in the JVM\"\u001b[0m\u001b[0;34m.\u001b[0m\u001b[0mformat\u001b[0m\u001b[0;34m(\u001b[0m\u001b[0mnew_fqn\u001b[0m\u001b[0;34m)\u001b[0m\u001b[0;34m)\u001b[0m\u001b[0;34m\u001b[0m\u001b[0;34m\u001b[0m\u001b[0m\n\u001b[0m\u001b[1;32m   1665\u001b[0m \u001b[0;34m\u001b[0m\u001b[0m\n\u001b[1;32m   1666\u001b[0m \u001b[0;34m\u001b[0m\u001b[0m\n",
            "\u001b[0;31mPy4JError\u001b[0m: org.apache.spark.util does not exist in the JVM"
          ]
        }
      ]
    },
    {
      "cell_type": "code",
      "source": [
        "# Stage 4 Evaluation\n",
        "\n",
        "from pyspark.ml.evaluation import MulticlassClassificationEvaluator\n",
        "\n",
        "evaluator = MulticlassClassificationEvaluator(labelCol=\"label\", predictionCol=\"prediction\", metricName=\"accuracy\")\n",
        "\n",
        "# Random Forest Accuracy\n",
        "accuracy = evaluator.evaluate(predictions)\n",
        "\n",
        "print(f\"Random Forest Accuracy = {accuracy:.2f}\")\n",
        "\n",
        "# Logistic Regression AccuracyLogistic Regression Accuracy =  0.60\n",
        "\n",
        "\n",
        "lr_accuracy = evaluator.evaluate(lr_predictions)\n",
        "print(f\"Logistic Regression Accuracy =  {lr_accuracy:.2f}\")\n",
        "\n",
        "#The MulticlassClassificationEvaluator was used to evaluate the two models. The metric used was accuracy,\n",
        "#because this is a classification problem. The prediction needs to be compared to the actual label, so the accuracy\n",
        "#is the percentage of correct predictions.\n",
        "\n",
        "#The Random Forest accuracy was only 36%. This is only 3% more than random chance, since there are only three authors.\n",
        "#Although that's technically better than random chance, its not enough better to be ok with the results. This was with 100 trees.\n",
        "#We also tried it with lower and more amounts of trees, but the results for accuracy were all similar.\n",
        "\n",
        "#The Logistic Regression Accuracy was much better, at 60%. This was way better than the 33% for random chance.\n",
        "#This was done with 50 iterations. We also tried with fewer iterations but that yielded worse results. Increasing\n",
        "#The number of iterations did not improve accuracy by that much."
      ],
      "metadata": {
        "id": "1mbqF-KJ9Dr1",
        "colab": {
          "base_uri": "https://localhost:8080/"
        },
        "outputId": "61756059-48d3-4aab-b956-65b2ad59e9aa"
      },
      "id": "1mbqF-KJ9Dr1",
      "execution_count": null,
      "outputs": [
        {
          "output_type": "stream",
          "name": "stdout",
          "text": [
            "Random Forest Accuracy = 0.36\n",
            "Logistic Regression Accuracy =  0.60\n"
          ]
        }
      ]
    },
    {
      "cell_type": "code",
      "source": [
        "from pyspark.ml.evaluation import MulticlassClassificationEvaluator\n",
        "from pyspark.mllib.evaluation import MulticlassMetrics\n",
        "import matplotlib.pyplot as plt\n",
        "import seaborn as sns\n",
        "import pandas as pd\n",
        "from pyspark.sql.functions import when\n",
        "\n",
        "# instantiates evaluators for different metrics\n",
        "evaluator_accuracy = MulticlassClassificationEvaluator(labelCol=\"label\", predictionCol=\"prediction\", metricName=\"accuracy\")\n",
        "evaluator_precision = MulticlassClassificationEvaluator(labelCol=\"label\", predictionCol=\"prediction\", metricName=\"weightedPrecision\")\n",
        "evaluator_recall = MulticlassClassificationEvaluator(labelCol=\"label\", predictionCol=\"prediction\", metricName=\"weightedRecall\")\n",
        "evaluator_f1 = MulticlassClassificationEvaluator(labelCol=\"label\", predictionCol=\"prediction\", metricName=\"f1\")\n",
        "\n",
        "# model eval: logistic regression\n",
        "lr_accuracy = evaluator_accuracy.evaluate(lr_predictions)\n",
        "lr_precision = evaluator_precision.evaluate(lr_predictions)\n",
        "lr_recall = evaluator_recall.evaluate(lr_predictions)\n",
        "lr_f1 = evaluator_f1.evaluate(lr_predictions)\n",
        "\n",
        "print(f\"Logistic Regression - Accuracy: {lr_accuracy:.2f}, Precision: {lr_precision:.2f}, Recall: {lr_recall:.2f}, F1 Score: {lr_f1:.2f}\")\n",
        "\n",
        "# confusion matrix (logistic regression)\n",
        "y_true = lr_predictions.select(\"label\").rdd.flatMap(lambda x: x).collect()\n",
        "y_pred = lr_predictions.select(\"prediction\").rdd.flatMap(lambda x: x).collect()\n",
        "\n",
        "lr_predictions = lr_predictions.withColumn(\"prediction\", when(lr_predictions[\"prediction\"] > 2.0, 4.0).otherwise(lr_predictions[\"prediction\"]))\n",
        "lr_predictions = lr_predictions.withColumn(\"label\", when(lr_predictions[\"label\"] > 2.0, 4.0).otherwise(lr_predictions[\"label\"]))\n",
        "\n",
        "metrics = MulticlassMetrics(lr_predictions.select(\"prediction\", \"label\").rdd.map(tuple))\n",
        "confusion_matrix = metrics.confusionMatrix().toArray()\n",
        "unique_labels = lr_predictions.select(\"label\").distinct().rdd.flatMap(lambda x: x).collect()\n",
        "unique_labels_sorted = sorted(unique_labels)\n",
        "print(unique_labels_sorted)\n",
        "confusion_df = pd.DataFrame(confusion_matrix, index=unique_labels_sorted, columns=unique_labels_sorted)\n",
        "\n",
        "\n",
        "# confusion matrix visualization\n",
        "plt.figure(figsize=(8, 6))\n",
        "sns.heatmap(confusion_df, annot=True, fmt=\"g\", cmap=\"Blues\", cbar=False)\n",
        "plt.title(\"Confusion Matrix - Logistic Regression\")\n",
        "plt.ylabel(\"True Label\")\n",
        "plt.xlabel(\"Predicted Label\")\n",
        "plt.show()\n",
        "\n",
        "#Because the Logistic Regression model performed the best out of the two models, with an accuracy score of .6, we decided\n",
        "#to evaluate other performance metrics on this model. The model had a Precision of .65, Recall of .6, and F1 score of .62.\n",
        "#The F1 score ranges from 0 to 1, with 0 being the worst and 1 being the best. Our F1 score of .62 is above average, and indicates\n",
        "#the model is doing a good job of making predictions. The precision and recall scores are also on a 0 to 1 scale, so the model\n",
        "#is above average on those as well. All four of these metrics indicate that the model is doing much better than simple random chance\n",
        "#at classification of the authors for the given texts.\n",
        "\n",
        "#Next steps for this process would be to maybe perform PCA analysis on the data and then incorporate the findings into the models\n",
        "#themselves. This might help increase the accuracy of the models by focusing more on which components are most contributing to the\n",
        "#classification of the texts.\n",
        "\n",
        "#The Confusion Matrix is based on the results of the Logistic Regression model. The three authors from the dataset were represented by 0, 1, and 2\n",
        "#due to the string indexing done earlier in the data preprocessing step. The Logistic Regression model requires numerical data, so the Author Names\n",
        "#needed to be represented by numerical values. As such, any prediction by the model that was not a 0, 1, or 2 was an incorrect prediction. However,\n",
        "#the model used many different numbers for incorrect predictions so we changed all of these to just a 4 for the visualization. The values along the\n",
        "#diagonal of the confusion matrix represent the correct predictions, excluding the 4,4 box. So, the 0,0 and 1,1 and 2,2 values are the correct predictions.\n",
        "\n",
        "\n"
      ],
      "metadata": {
        "colab": {
          "base_uri": "https://localhost:8080/",
          "height": 653
        },
        "id": "RF9ZMSSovrs0",
        "outputId": "c6fff48e-afbe-48d1-f2b4-53229e067fb7"
      },
      "id": "RF9ZMSSovrs0",
      "execution_count": null,
      "outputs": [
        {
          "output_type": "stream",
          "name": "stdout",
          "text": [
            "Logistic Regression - Accuracy: 0.65, Precision: 0.68, Recall: 0.65, F1 Score: 0.66\n",
            "[0.0, 0.0, 1.0, 0.0, 2.0, 1.0, 0.0, 2.0, 1.0, 0.0, 0.0, 0.0, 0.0, 4.0, 0.0, 0.0, 4.0, 0.0, 0.0, 0.0, 0.0, 1.0, 4.0, 1.0, 2.0, 1.0, 0.0, 2.0, 0.0, 2.0, 1.0, 0.0, 2.0, 0.0, 0.0, 0.0, 0.0, 1.0, 4.0, 4.0, 0.0, 0.0, 2.0, 1.0, 0.0, 1.0, 1.0, 2.0, 0.0, 1.0, 1.0, 2.0, 1.0, 1.0, 1.0, 2.0, 0.0, 0.0, 1.0, 1.0, 0.0, 0.0, 2.0, 0.0, 1.0, 1.0, 4.0, 1.0, 0.0, 2.0, 1.0, 0.0, 4.0, 0.0, 2.0, 2.0, 1.0, 0.0, 1.0, 2.0, 0.0, 4.0, 0.0, 0.0, 1.0, 1.0, 0.0, 1.0, 2.0, 2.0, 1.0, 1.0, 0.0, 0.0, 0.0, 0.0, 1.0, 2.0, 0.0, 1.0, 0.0, 2.0, 0.0, 2.0, 0.0, 1.0, 0.0, 1.0, 1.0, 2.0, 2.0, 0.0, 1.0, 1.0, 0.0, 0.0, 0.0, 2.0, 4.0, 2.0, 1.0, 4.0, 2.0, 1.0, 1.0, 0.0, 0.0, 2.0, 1.0, 0.0, 0.0, 0.0, 1.0, 0.0, 0.0, 4.0, 2.0, 0.0, 2.0, 0.0, 1.0, 0.0, 0.0, 4.0, 2.0, 0.0, 1.0, 0.0, 4.0, 2.0, 0.0, 0.0, 0.0, 2.0, 2.0, 2.0, 0.0, 4.0, 0.0, 1.0, 0.0, 0.0, 0.0, 1.0, 0.0, 0.0, 2.0, 1.0, 4.0, 1.0, 0.0, 2.0, 0.0, 1.0, 4.0, 0.0, 1.0, 1.0, 1.0, 1.0, 0.0, 1.0, 1.0, 0.0, 2.0, 1.0, 0.0, 4.0, 0.0, 0.0, 2.0, 0.0, 1.0, 2.0, 1.0, 0.0, 1.0, 1.0, 2.0, 0.0, 1.0, 1.0, 1.0, 1.0, 1.0, 0.0, 1.0, 0.0, 0.0, 4.0, 0.0, 0.0, 1.0, 0.0, 0.0, 0.0, 0.0, 0.0, 1.0, 1.0, 1.0, 2.0, 2.0, 2.0, 0.0, 2.0, 2.0, 0.0, 1.0, 1.0, 2.0, 4.0, 2.0, 2.0, 0.0, 1.0, 0.0, 0.0, 1.0, 0.0, 2.0, 1.0, 0.0, 0.0, 2.0, 2.0, 4.0, 0.0, 1.0, 0.0, 2.0, 0.0, 0.0, 2.0, 1.0, 0.0, 2.0, 0.0, 1.0, 1.0, 0.0, 1.0, 1.0, 0.0, 0.0, 0.0, 0.0, 1.0, 4.0, 1.0, 4.0, 0.0, 0.0, 0.0, 2.0, 0.0, 1.0, 4.0, 1.0, 1.0, 1.0, 2.0, 2.0, 0.0, 2.0, 1.0, 2.0, 1.0, 2.0, 2.0, 2.0, 2.0, 1.0, 4.0, 0.0, 1.0, 1.0, 1.0, 0.0, 2.0, 1.0, 2.0, 1.0, 2.0, 0.0, 0.0, 2.0, 2.0, 1.0, 4.0, 1.0, 2.0, 2.0, 0.0, 2.0, 2.0, 0.0, 0.0, 2.0, 0.0, 2.0, 1.0, 2.0, 2.0, 4.0, 1.0, 1.0, 2.0, 1.0, 2.0, 2.0, 2.0, 0.0, 1.0, 0.0, 0.0, 1.0, 2.0, 1.0, 2.0, 1.0, 2.0, 1.0, 1.0, 2.0, 2.0, 0.0, 0.0, 1.0, 0.0, 1.0, 0.0, 0.0, 2.0, 0.0, 0.0, 2.0, 1.0, 1.0, 0.0, 2.0, 2.0, 1.0, 2.0, 1.0, 0.0, 0.0, 0.0, 1.0, 1.0, 0.0, 0.0, 0.0, 1.0, 1.0, 1.0, 0.0, 0.0, 0.0, 4.0, 0.0, 4.0, 1.0, 0.0, 0.0, 1.0, 4.0, 1.0, 0.0, 2.0, 2.0, 0.0, 0.0, 1.0, 0.0, 2.0, 0.0, 0.0, 2.0, 2.0, 0.0, 2.0, 2.0, 0.0, 4.0, 0.0, 0.0, 4.0, 0.0, 1.0, 0.0, 1.0, 4.0, 0.0, 0.0, 1.0, 1.0, 1.0, 2.0, 2.0, 0.0, 4.0, 0.0, 4.0, 2.0, 0.0, 0.0, 2.0, 0.0, 1.0, 1.0, 0.0, 4.0, 2.0, 1.0, 1.0, 0.0, 0.0, 2.0, 0.0, 2.0, 2.0, 0.0, 1.0, 2.0, 2.0, 2.0, 0.0, 0.0, 1.0, 2.0, 0.0, 1.0, 0.0, 2.0, 0.0, 2.0, 4.0, 2.0, 1.0, 0.0, 0.0, 2.0, 2.0, 2.0, 4.0, 2.0, 0.0, 0.0, 4.0, 0.0, 1.0, 0.0, 0.0, 2.0, 0.0, 2.0, 1.0, 0.0, 1.0, 0.0, 2.0, 0.0, 1.0, 0.0, 1.0, 1.0, 2.0, 1.0, 1.0, 0.0, 1.0, 0.0, 2.0, 1.0, 0.0, 0.0, 2.0, 2.0, 0.0, 2.0, 1.0, 0.0, 1.0, 0.0, 1.0, 0.0, 0.0, 1.0, 1.0, 1.0, 2.0, 0.0, 1.0, 1.0, 1.0, 2.0, 0.0, 2.0, 2.0, 0.0, 0.0, 1.0, 1.0, 1.0, 0.0, 0.0, 4.0, 2.0, 2.0, 0.0, 2.0, 0.0, 1.0, 2.0, 0.0, 2.0, 4.0, 2.0, 2.0, 1.0, 2.0, 2.0, 4.0, 2.0, 0.0, 0.0, 2.0, 2.0, 0.0, 2.0, 4.0, 2.0, 0.0, 2.0, 2.0, 2.0, 0.0, 1.0, 2.0, 1.0, 1.0, 0.0, 4.0, 2.0, 1.0, 4.0, 2.0, 2.0, 1.0, 2.0, 2.0, 2.0, 0.0, 2.0, 4.0, 1.0, 2.0, 0.0, 0.0, 1.0, 1.0, 1.0, 0.0, 0.0, 0.0, 2.0, 4.0, 2.0, 2.0, 2.0, 0.0, 2.0, 1.0, 1.0, 4.0, 2.0, 2.0, 1.0, 1.0, 0.0, 0.0, 0.0, 0.0, 4.0, 2.0, 2.0, 0.0, 1.0, 2.0, 0.0, 2.0, 0.0, 2.0, 1.0, 1.0, 0.0, 0.0, 2.0, 1.0, 1.0, 4.0, 1.0, 1.0, 0.0, 0.0, 1.0, 1.0, 2.0, 0.0, 2.0, 2.0, 4.0, 2.0, 0.0, 0.0, 0.0, 2.0, 0.0, 0.0, 1.0, 2.0, 0.0, 0.0, 0.0, 1.0, 4.0, 2.0, 1.0, 1.0, 2.0, 2.0, 1.0, 1.0, 2.0, 0.0, 1.0, 2.0, 4.0, 1.0, 2.0, 1.0, 0.0, 1.0, 4.0, 0.0, 0.0, 0.0, 4.0, 0.0, 2.0, 1.0, 2.0, 2.0, 4.0, 2.0, 0.0, 0.0, 2.0, 4.0, 1.0, 4.0, 1.0, 2.0, 1.0, 0.0, 2.0, 1.0, 1.0, 2.0, 2.0, 4.0, 0.0, 2.0, 2.0, 0.0, 0.0, 0.0, 0.0, 2.0, 0.0, 1.0, 1.0, 2.0, 0.0, 1.0, 4.0, 2.0, 0.0, 1.0, 0.0, 1.0, 0.0, 2.0, 0.0, 1.0, 0.0, 0.0, 4.0, 2.0, 0.0, 2.0, 1.0, 0.0, 1.0, 2.0, 1.0, 2.0, 2.0, 2.0, 0.0, 1.0, 0.0, 2.0, 4.0, 1.0, 0.0, 0.0, 0.0, 0.0, 4.0, 0.0, 2.0, 1.0, 1.0, 1.0, 2.0, 0.0, 4.0, 2.0, 1.0, 0.0, 2.0, 2.0, 0.0, 2.0, 1.0, 2.0, 2.0, 0.0, 2.0, 2.0, 2.0, 2.0, 1.0, 2.0, 0.0, 0.0, 2.0, 2.0, 1.0, 0.0, 0.0, 0.0, 0.0, 0.0, 0.0, 0.0, 2.0, 0.0, 1.0, 2.0, 2.0, 1.0, 1.0, 2.0, 2.0, 2.0, 0.0, 1.0, 1.0, 0.0, 0.0, 0.0, 1.0, 0.0, 0.0, 0.0, 2.0, 0.0, 2.0, 0.0, 2.0, 2.0, 0.0, 2.0, 0.0, 0.0, 2.0, 4.0, 1.0, 0.0, 0.0, 0.0, 2.0, 0.0, 2.0, 0.0, 0.0, 0.0, 1.0, 0.0, 0.0, 1.0, 1.0, 1.0, 0.0, 2.0, 0.0, 1.0, 2.0, 0.0, 2.0, 0.0, 2.0, 4.0, 0.0, 0.0, 2.0, 1.0, 2.0, 4.0, 2.0, 4.0, 1.0, 0.0, 1.0, 2.0, 2.0, 2.0, 0.0, 4.0, 1.0, 2.0, 1.0, 4.0, 0.0, 2.0, 1.0, 0.0, 1.0, 1.0, 2.0, 2.0, 0.0, 4.0, 1.0, 1.0, 0.0, 2.0, 2.0, 2.0, 4.0, 1.0, 2.0, 0.0, 0.0, 0.0, 0.0, 2.0, 1.0, 0.0, 0.0, 2.0, 0.0, 0.0, 0.0, 2.0, 2.0, 2.0, 2.0, 2.0, 0.0, 2.0, 2.0, 2.0, 2.0, 2.0, 1.0, 1.0, 1.0, 4.0, 1.0, 2.0, 0.0, 0.0, 1.0, 4.0, 2.0, 1.0, 2.0, 1.0, 2.0, 0.0, 2.0, 1.0, 2.0, 1.0, 2.0, 0.0, 0.0, 1.0, 2.0, 2.0, 0.0, 1.0, 2.0, 0.0, 4.0, 4.0, 2.0, 1.0, 0.0, 0.0, 1.0, 0.0, 0.0, 1.0, 0.0, 2.0, 1.0, 0.0, 0.0, 0.0, 0.0, 1.0, 4.0, 1.0, 1.0, 1.0, 4.0, 1.0, 2.0, 4.0, 2.0, 1.0, 4.0, 2.0, 0.0, 1.0, 2.0, 1.0, 2.0, 1.0, 0.0, 2.0, 0.0, 0.0, 0.0, 1.0, 0.0, 2.0, 4.0, 1.0, 0.0, 1.0, 0.0, 4.0, 0.0, 1.0, 1.0, 0.0, 2.0, 1.0, 2.0, 2.0, 2.0, 2.0, 0.0, 2.0, 1.0, 1.0, 1.0, 0.0, 2.0, 2.0, 1.0, 2.0, 2.0, 0.0, 0.0, 0.0, 1.0, 1.0, 1.0, 2.0, 1.0, 0.0, 0.0, 2.0, 0.0, 0.0, 1.0, 1.0, 1.0, 1.0, 2.0, 0.0, 0.0, 0.0, 1.0, 0.0, 2.0, 0.0, 0.0, 1.0, 0.0, 1.0, 0.0, 0.0, 0.0, 2.0, 2.0, 1.0, 2.0, 0.0, 4.0, 0.0, 2.0, 2.0, 0.0, 2.0, 1.0, 2.0, 1.0, 4.0, 0.0, 0.0, 0.0, 2.0, 2.0, 0.0, 1.0, 0.0, 2.0, 0.0, 2.0, 0.0, 0.0, 0.0, 0.0, 0.0, 0.0, 4.0, 2.0, 2.0, 0.0, 0.0, 2.0, 2.0, 0.0, 1.0, 0.0, 2.0, 1.0, 0.0, 0.0, 1.0, 0.0, 1.0, 4.0, 4.0, 0.0, 2.0, 2.0, 4.0, 0.0, 0.0, 0.0, 2.0, 4.0, 0.0, 1.0, 0.0, 0.0, 2.0, 2.0, 2.0, 0.0, 2.0, 1.0, 1.0, 4.0, 1.0, 0.0, 0.0, 0.0, 2.0, 2.0, 2.0, 1.0, 0.0, 2.0, 2.0, 1.0, 0.0, 1.0, 2.0, 0.0, 1.0, 2.0, 1.0, 0.0, 1.0, 2.0, 1.0, 0.0, 2.0, 1.0, 0.0, 1.0, 2.0, 1.0, 1.0, 4.0, 0.0, 0.0, 1.0, 2.0, 1.0, 2.0, 0.0, 1.0, 2.0, 1.0, 1.0, 2.0, 2.0, 0.0, 0.0, 0.0, 0.0, 1.0, 1.0, 1.0, 0.0, 1.0, 1.0, 0.0, 0.0, 0.0, 1.0, 4.0, 1.0, 0.0, 1.0, 0.0, 4.0, 0.0, 2.0, 1.0, 4.0, 1.0, 2.0, 1.0, 0.0, 2.0, 0.0, 2.0, 1.0, 1.0, 0.0, 2.0, 0.0, 0.0, 0.0, 1.0, 2.0, 1.0, 0.0, 2.0, 0.0, 1.0, 0.0, 0.0, 4.0, 0.0, 0.0, 2.0, 1.0, 2.0, 2.0, 2.0, 1.0, 0.0, 2.0, 2.0, 0.0, 2.0, 1.0, 0.0, 1.0, 4.0, 4.0, 4.0, 2.0, 0.0, 1.0, 1.0, 1.0, 2.0, 0.0, 0.0, 2.0, 0.0, 1.0, 2.0, 1.0, 2.0, 2.0, 2.0, 0.0, 2.0, 0.0, 0.0, 0.0, 2.0, 2.0, 2.0, 0.0, 1.0, 2.0, 1.0, 0.0, 2.0, 0.0, 4.0, 1.0, 1.0, 0.0, 2.0, 2.0, 1.0, 2.0, 2.0, 0.0, 1.0, 0.0, 0.0, 1.0, 0.0, 2.0, 2.0, 0.0, 1.0, 0.0, 0.0, 0.0, 4.0, 0.0, 0.0, 0.0, 1.0, 0.0, 1.0, 0.0, 2.0, 1.0, 2.0, 0.0, 1.0, 1.0, 0.0, 2.0, 2.0, 1.0, 2.0, 2.0, 1.0, 1.0, 2.0, 1.0, 1.0, 1.0, 0.0, 1.0, 0.0, 4.0, 0.0, 2.0, 0.0, 2.0, 2.0, 2.0, 1.0, 0.0, 2.0, 0.0, 2.0, 1.0, 1.0, 0.0, 2.0, 0.0, 0.0, 0.0, 0.0, 1.0, 0.0, 0.0, 0.0, 2.0, 1.0, 2.0, 1.0, 0.0, 2.0, 2.0, 1.0, 4.0, 2.0, 0.0, 1.0, 2.0, 1.0, 1.0, 4.0, 0.0, 2.0, 2.0, 1.0, 0.0, 4.0, 1.0, 2.0, 1.0, 1.0, 1.0, 0.0, 0.0, 1.0, 0.0, 2.0, 1.0, 1.0, 1.0, 2.0, 2.0, 0.0, 2.0, 4.0, 0.0, 0.0, 1.0, 2.0, 2.0, 0.0, 2.0, 1.0, 1.0, 2.0, 0.0, 1.0, 2.0, 1.0, 0.0, 4.0, 1.0, 0.0, 2.0, 2.0, 0.0, 1.0, 0.0, 1.0, 0.0, 2.0, 0.0, 2.0, 0.0, 2.0, 4.0, 1.0, 1.0, 0.0, 1.0, 0.0, 1.0, 1.0, 0.0, 1.0, 1.0, 4.0, 2.0, 0.0, 2.0, 0.0, 0.0, 1.0, 1.0, 1.0, 0.0, 0.0, 1.0, 0.0, 1.0, 0.0, 2.0, 0.0, 1.0, 1.0, 0.0, 1.0, 1.0, 2.0, 2.0, 0.0, 1.0, 1.0, 1.0, 0.0, 0.0, 1.0, 0.0, 0.0, 0.0, 0.0, 1.0, 2.0, 0.0, 1.0, 0.0, 0.0, 2.0, 2.0, 1.0, 0.0, 0.0, 1.0, 2.0, 2.0, 0.0, 2.0, 0.0, 0.0, 4.0, 0.0, 4.0, 2.0, 0.0, 4.0, 2.0, 2.0, 4.0, 1.0, 1.0, 2.0, 0.0, 1.0, 1.0, 0.0, 2.0, 0.0, 0.0, 1.0, 0.0, 2.0, 1.0, 1.0, 0.0, 0.0, 2.0, 0.0, 2.0, 0.0, 1.0, 1.0, 1.0, 4.0, 1.0, 0.0, 1.0, 0.0, 0.0, 1.0, 2.0, 0.0, 1.0, 0.0, 0.0, 0.0, 0.0, 2.0, 1.0, 4.0, 4.0, 2.0, 1.0, 2.0, 0.0, 0.0, 1.0, 0.0, 2.0, 0.0, 1.0, 1.0, 4.0, 0.0, 0.0, 0.0, 1.0, 0.0, 4.0, 0.0, 0.0, 0.0, 1.0, 1.0, 1.0, 0.0, 1.0, 2.0, 0.0, 0.0, 0.0, 0.0, 1.0, 1.0, 0.0, 2.0, 1.0, 4.0, 1.0, 2.0, 2.0, 0.0, 2.0, 0.0, 2.0, 2.0, 1.0, 4.0, 1.0, 1.0, 0.0, 0.0, 2.0, 2.0, 1.0, 2.0, 0.0, 0.0, 0.0, 2.0, 1.0, 1.0, 2.0, 0.0, 1.0, 0.0, 0.0, 2.0, 2.0, 2.0, 0.0, 0.0, 4.0, 0.0, 2.0, 2.0, 2.0, 1.0, 2.0, 1.0, 4.0, 2.0, 1.0, 1.0, 1.0, 2.0, 2.0, 1.0, 4.0, 1.0, 2.0, 1.0, 1.0, 0.0, 2.0, 1.0, 4.0, 1.0, 4.0, 1.0, 2.0, 2.0, 0.0, 0.0, 0.0, 2.0, 2.0, 0.0, 0.0, 0.0, 2.0, 1.0, 0.0, 2.0, 0.0, 1.0, 0.0, 1.0, 0.0, 4.0, 1.0, 1.0, 2.0, 0.0, 2.0, 1.0, 1.0, 2.0, 0.0, 1.0, 2.0, 0.0, 1.0, 0.0, 0.0, 0.0, 2.0, 2.0, 1.0, 2.0, 4.0, 0.0, 4.0, 4.0, 0.0, 1.0, 0.0, 2.0, 0.0, 0.0, 2.0, 2.0, 1.0, 4.0, 1.0, 0.0, 2.0, 0.0, 0.0, 4.0, 0.0, 0.0, 0.0, 1.0, 4.0, 2.0, 4.0, 0.0, 4.0, 2.0, 1.0, 1.0, 4.0, 2.0, 2.0, 0.0, 2.0, 0.0, 1.0, 2.0, 1.0, 2.0, 0.0, 2.0, 0.0, 2.0, 1.0, 4.0, 0.0, 1.0, 0.0, 1.0, 2.0, 0.0, 2.0, 1.0, 4.0, 1.0, 2.0, 2.0, 1.0, 1.0, 0.0, 0.0, 0.0, 1.0, 2.0, 1.0, 1.0, 2.0, 0.0, 1.0, 1.0, 2.0, 2.0, 0.0, 2.0, 2.0, 2.0, 0.0, 2.0, 1.0, 1.0, 0.0, 0.0, 2.0, 0.0, 1.0, 0.0, 2.0, 2.0, 4.0, 2.0, 1.0, 0.0, 2.0, 2.0, 2.0, 2.0, 1.0, 4.0, 0.0, 1.0, 2.0, 0.0, 0.0, 0.0, 1.0, 1.0, 0.0, 2.0, 0.0, 4.0, 1.0, 0.0, 0.0, 2.0, 0.0, 2.0, 0.0, 1.0, 1.0, 1.0, 2.0, 4.0, 0.0, 0.0, 2.0, 1.0, 0.0, 2.0, 1.0, 2.0, 0.0, 2.0, 0.0, 4.0, 2.0, 1.0, 0.0, 0.0, 0.0, 0.0, 0.0, 1.0, 1.0, 2.0, 1.0, 4.0, 0.0, 1.0, 1.0, 0.0, 0.0, 0.0, 1.0, 1.0, 0.0, 2.0, 1.0, 0.0, 1.0, 1.0, 0.0, 0.0, 1.0, 1.0, 2.0, 4.0, 2.0, 0.0, 4.0, 0.0, 4.0, 2.0, 1.0, 1.0, 1.0, 4.0, 4.0, 4.0, 1.0, 0.0, 2.0, 2.0, 4.0, 0.0, 4.0, 1.0, 1.0, 1.0, 2.0, 1.0, 0.0, 0.0, 2.0, 0.0, 0.0, 0.0, 2.0, 4.0, 4.0, 1.0, 2.0, 2.0, 2.0, 1.0, 0.0, 2.0, 0.0, 1.0, 1.0, 0.0, 1.0, 2.0, 0.0, 0.0, 4.0, 0.0, 1.0, 2.0, 1.0, 4.0, 0.0, 1.0, 2.0, 2.0, 0.0, 0.0, 1.0, 1.0, 2.0, 0.0, 2.0, 1.0, 2.0, 1.0, 2.0, 1.0, 0.0, 1.0, 0.0, 2.0, 0.0, 0.0, 1.0, 1.0, 4.0, 2.0, 0.0, 0.0, 0.0, 1.0]\n",
            "[0.0, 0.0, 4.0, 0.0, 2.0, 2.0, 4.0, 2.0, 1.0, 0.0, 0.0, 0.0, 0.0, 4.0, 4.0, 0.0, 4.0, 0.0, 0.0, 0.0, 0.0, 1.0, 1.0, 1.0, 2.0, 1.0, 0.0, 2.0, 0.0, 0.0, 1.0, 0.0, 1.0, 2.0, 0.0, 0.0, 2.0, 1.0, 2.0, 4.0, 4.0, 0.0, 4.0, 1.0, 0.0, 1.0, 1.0, 2.0, 0.0, 1.0, 1.0, 1.0, 1.0, 4.0, 1.0, 2.0, 0.0, 0.0, 1.0, 1.0, 0.0, 0.0, 2.0, 0.0, 1.0, 1.0, 4.0, 1.0, 0.0, 0.0, 4.0, 0.0, 4.0, 2.0, 1.0, 0.0, 1.0, 2.0, 1.0, 1.0, 2.0, 4.0, 4.0, 0.0, 1.0, 1.0, 2.0, 1.0, 2.0, 2.0, 4.0, 1.0, 0.0, 0.0, 4.0, 0.0, 1.0, 2.0, 2.0, 1.0, 0.0, 2.0, 0.0, 2.0, 0.0, 1.0, 2.0, 0.0, 2.0, 2.0, 2.0, 0.0, 1.0, 1.0, 0.0, 4.0, 0.0, 2.0, 4.0, 2.0, 1.0, 4.0, 2.0, 2.0, 2.0, 0.0, 0.0, 2.0, 1.0, 0.0, 1.0, 1.0, 1.0, 0.0, 0.0, 4.0, 2.0, 0.0, 2.0, 0.0, 4.0, 2.0, 0.0, 4.0, 0.0, 0.0, 2.0, 2.0, 4.0, 4.0, 0.0, 2.0, 0.0, 2.0, 1.0, 4.0, 0.0, 0.0, 0.0, 0.0, 1.0, 0.0, 4.0, 1.0, 0.0, 2.0, 2.0, 1.0, 0.0, 2.0, 2.0, 2.0, 0.0, 4.0, 4.0, 0.0, 1.0, 4.0, 2.0, 0.0, 1.0, 1.0, 1.0, 0.0, 4.0, 1.0, 1.0, 4.0, 0.0, 2.0, 0.0, 0.0, 1.0, 2.0, 1.0, 0.0, 1.0, 4.0, 2.0, 0.0, 1.0, 1.0, 1.0, 1.0, 1.0, 0.0, 1.0, 0.0, 2.0, 0.0, 1.0, 1.0, 1.0, 0.0, 0.0, 0.0, 4.0, 2.0, 1.0, 1.0, 0.0, 2.0, 2.0, 4.0, 0.0, 2.0, 1.0, 1.0, 1.0, 1.0, 1.0, 0.0, 2.0, 2.0, 1.0, 1.0, 4.0, 2.0, 1.0, 0.0, 2.0, 1.0, 1.0, 0.0, 2.0, 2.0, 4.0, 0.0, 1.0, 4.0, 0.0, 0.0, 0.0, 2.0, 4.0, 0.0, 4.0, 0.0, 1.0, 1.0, 0.0, 1.0, 4.0, 0.0, 0.0, 1.0, 0.0, 1.0, 4.0, 1.0, 0.0, 0.0, 0.0, 2.0, 2.0, 2.0, 1.0, 4.0, 0.0, 1.0, 1.0, 4.0, 2.0, 0.0, 4.0, 1.0, 0.0, 1.0, 4.0, 0.0, 0.0, 4.0, 1.0, 4.0, 2.0, 1.0, 0.0, 4.0, 4.0, 1.0, 1.0, 2.0, 1.0, 4.0, 0.0, 0.0, 2.0, 2.0, 1.0, 4.0, 4.0, 4.0, 2.0, 2.0, 4.0, 2.0, 0.0, 0.0, 2.0, 0.0, 2.0, 1.0, 2.0, 2.0, 1.0, 1.0, 2.0, 2.0, 1.0, 2.0, 1.0, 2.0, 0.0, 4.0, 0.0, 0.0, 2.0, 2.0, 1.0, 0.0, 0.0, 2.0, 1.0, 1.0, 0.0, 2.0, 0.0, 0.0, 0.0, 2.0, 2.0, 0.0, 0.0, 2.0, 0.0, 0.0, 0.0, 1.0, 1.0, 0.0, 2.0, 2.0, 1.0, 2.0, 1.0, 4.0, 0.0, 0.0, 2.0, 4.0, 0.0, 2.0, 0.0, 0.0, 1.0, 1.0, 0.0, 4.0, 0.0, 0.0, 0.0, 4.0, 2.0, 2.0, 0.0, 2.0, 0.0, 1.0, 0.0, 0.0, 0.0, 0.0, 0.0, 2.0, 2.0, 2.0, 4.0, 2.0, 2.0, 2.0, 4.0, 2.0, 0.0, 0.0, 0.0, 0.0, 1.0, 4.0, 2.0, 1.0, 0.0, 1.0, 0.0, 0.0, 0.0, 1.0, 1.0, 1.0, 2.0, 2.0, 0.0, 4.0, 0.0, 2.0, 2.0, 0.0, 0.0, 2.0, 4.0, 1.0, 2.0, 4.0, 2.0, 2.0, 1.0, 4.0, 0.0, 2.0, 0.0, 0.0, 2.0, 2.0, 1.0, 1.0, 0.0, 4.0, 2.0, 0.0, 0.0, 1.0, 0.0, 4.0, 4.0, 2.0, 2.0, 0.0, 4.0, 4.0, 2.0, 1.0, 0.0, 0.0, 1.0, 2.0, 2.0, 4.0, 2.0, 4.0, 0.0, 4.0, 0.0, 2.0, 2.0, 1.0, 0.0, 4.0, 2.0, 1.0, 0.0, 0.0, 0.0, 0.0, 2.0, 4.0, 0.0, 1.0, 1.0, 0.0, 1.0, 1.0, 0.0, 2.0, 0.0, 2.0, 1.0, 0.0, 0.0, 2.0, 2.0, 0.0, 2.0, 2.0, 2.0, 1.0, 4.0, 1.0, 0.0, 0.0, 1.0, 1.0, 4.0, 0.0, 0.0, 1.0, 1.0, 1.0, 2.0, 4.0, 0.0, 2.0, 2.0, 1.0, 0.0, 4.0, 2.0, 0.0, 4.0, 2.0, 2.0, 2.0, 0.0, 2.0, 2.0, 4.0, 2.0, 0.0, 4.0, 2.0, 2.0, 2.0, 1.0, 1.0, 2.0, 4.0, 2.0, 2.0, 0.0, 1.0, 2.0, 0.0, 2.0, 4.0, 0.0, 0.0, 2.0, 0.0, 2.0, 0.0, 0.0, 2.0, 1.0, 0.0, 0.0, 2.0, 2.0, 1.0, 4.0, 2.0, 2.0, 0.0, 2.0, 0.0, 1.0, 2.0, 2.0, 4.0, 1.0, 2.0, 0.0, 0.0, 1.0, 1.0, 1.0, 0.0, 4.0, 0.0, 2.0, 4.0, 2.0, 2.0, 0.0, 0.0, 0.0, 0.0, 1.0, 4.0, 2.0, 2.0, 0.0, 0.0, 4.0, 0.0, 0.0, 0.0, 0.0, 0.0, 2.0, 0.0, 1.0, 2.0, 0.0, 0.0, 2.0, 2.0, 1.0, 4.0, 2.0, 0.0, 2.0, 1.0, 1.0, 4.0, 1.0, 1.0, 0.0, 0.0, 1.0, 1.0, 0.0, 0.0, 2.0, 2.0, 4.0, 2.0, 0.0, 2.0, 0.0, 0.0, 0.0, 0.0, 1.0, 2.0, 0.0, 4.0, 0.0, 4.0, 4.0, 2.0, 1.0, 1.0, 2.0, 0.0, 1.0, 1.0, 0.0, 2.0, 1.0, 2.0, 4.0, 1.0, 2.0, 1.0, 0.0, 1.0, 4.0, 0.0, 2.0, 2.0, 0.0, 0.0, 1.0, 1.0, 0.0, 2.0, 4.0, 0.0, 2.0, 4.0, 2.0, 2.0, 1.0, 0.0, 1.0, 2.0, 1.0, 0.0, 2.0, 2.0, 0.0, 2.0, 2.0, 4.0, 4.0, 2.0, 0.0, 0.0, 4.0, 0.0, 0.0, 2.0, 4.0, 1.0, 1.0, 2.0, 4.0, 1.0, 4.0, 2.0, 2.0, 0.0, 0.0, 0.0, 0.0, 2.0, 4.0, 4.0, 0.0, 1.0, 4.0, 0.0, 2.0, 2.0, 1.0, 0.0, 1.0, 2.0, 1.0, 2.0, 2.0, 2.0, 2.0, 0.0, 0.0, 0.0, 4.0, 1.0, 0.0, 2.0, 4.0, 0.0, 0.0, 0.0, 2.0, 2.0, 1.0, 1.0, 2.0, 0.0, 0.0, 2.0, 1.0, 4.0, 0.0, 4.0, 0.0, 4.0, 1.0, 2.0, 2.0, 0.0, 4.0, 2.0, 2.0, 2.0, 0.0, 2.0, 0.0, 2.0, 1.0, 0.0, 1.0, 4.0, 0.0, 0.0, 1.0, 4.0, 0.0, 0.0, 4.0, 0.0, 1.0, 2.0, 2.0, 1.0, 4.0, 2.0, 0.0, 2.0, 4.0, 0.0, 4.0, 0.0, 4.0, 0.0, 1.0, 0.0, 0.0, 0.0, 2.0, 0.0, 2.0, 1.0, 2.0, 0.0, 0.0, 2.0, 0.0, 0.0, 2.0, 4.0, 1.0, 2.0, 0.0, 0.0, 2.0, 0.0, 4.0, 2.0, 0.0, 1.0, 1.0, 0.0, 2.0, 1.0, 1.0, 1.0, 0.0, 2.0, 0.0, 1.0, 2.0, 0.0, 0.0, 0.0, 2.0, 0.0, 1.0, 0.0, 0.0, 1.0, 4.0, 0.0, 2.0, 4.0, 0.0, 0.0, 1.0, 2.0, 2.0, 2.0, 0.0, 0.0, 4.0, 2.0, 1.0, 4.0, 0.0, 2.0, 1.0, 2.0, 1.0, 4.0, 2.0, 2.0, 0.0, 4.0, 2.0, 1.0, 4.0, 4.0, 2.0, 2.0, 2.0, 1.0, 2.0, 0.0, 0.0, 2.0, 4.0, 2.0, 4.0, 0.0, 0.0, 2.0, 0.0, 2.0, 0.0, 2.0, 2.0, 2.0, 2.0, 2.0, 0.0, 4.0, 0.0, 4.0, 0.0, 0.0, 4.0, 0.0, 1.0, 4.0, 0.0, 2.0, 0.0, 4.0, 1.0, 0.0, 0.0, 4.0, 2.0, 1.0, 1.0, 4.0, 2.0, 1.0, 0.0, 2.0, 2.0, 0.0, 0.0, 4.0, 4.0, 2.0, 0.0, 0.0, 2.0, 0.0, 0.0, 4.0, 2.0, 2.0, 0.0, 2.0, 1.0, 0.0, 0.0, 1.0, 0.0, 2.0, 1.0, 0.0, 0.0, 0.0, 0.0, 1.0, 4.0, 4.0, 0.0, 1.0, 4.0, 1.0, 2.0, 4.0, 4.0, 2.0, 2.0, 2.0, 0.0, 1.0, 2.0, 2.0, 4.0, 1.0, 0.0, 2.0, 0.0, 0.0, 0.0, 1.0, 0.0, 0.0, 1.0, 0.0, 0.0, 4.0, 1.0, 4.0, 0.0, 2.0, 1.0, 0.0, 2.0, 1.0, 2.0, 2.0, 0.0, 2.0, 0.0, 2.0, 1.0, 1.0, 1.0, 0.0, 1.0, 0.0, 2.0, 2.0, 2.0, 4.0, 0.0, 0.0, 4.0, 1.0, 1.0, 1.0, 1.0, 0.0, 0.0, 2.0, 4.0, 0.0, 1.0, 1.0, 0.0, 1.0, 2.0, 0.0, 1.0, 2.0, 0.0, 0.0, 2.0, 0.0, 1.0, 2.0, 4.0, 4.0, 0.0, 0.0, 1.0, 2.0, 4.0, 4.0, 2.0, 0.0, 4.0, 0.0, 2.0, 2.0, 2.0, 1.0, 1.0, 1.0, 0.0, 1.0, 4.0, 2.0, 0.0, 0.0, 2.0, 0.0, 1.0, 0.0, 2.0, 4.0, 1.0, 4.0, 0.0, 1.0, 0.0, 1.0, 0.0, 4.0, 2.0, 1.0, 4.0, 4.0, 1.0, 2.0, 0.0, 0.0, 4.0, 2.0, 2.0, 4.0, 0.0, 1.0, 0.0, 1.0, 4.0, 4.0, 0.0, 2.0, 2.0, 2.0, 1.0, 0.0, 0.0, 2.0, 0.0, 0.0, 1.0, 0.0, 1.0, 1.0, 1.0, 2.0, 0.0, 1.0, 2.0, 0.0, 4.0, 1.0, 0.0, 0.0, 0.0, 2.0, 2.0, 2.0, 1.0, 0.0, 2.0, 2.0, 1.0, 0.0, 1.0, 0.0, 0.0, 1.0, 0.0, 4.0, 0.0, 1.0, 2.0, 1.0, 0.0, 1.0, 1.0, 0.0, 1.0, 1.0, 1.0, 1.0, 0.0, 0.0, 0.0, 1.0, 1.0, 2.0, 0.0, 0.0, 1.0, 2.0, 1.0, 1.0, 0.0, 0.0, 4.0, 0.0, 0.0, 0.0, 0.0, 1.0, 1.0, 0.0, 1.0, 1.0, 0.0, 1.0, 0.0, 1.0, 4.0, 1.0, 4.0, 4.0, 0.0, 1.0, 0.0, 2.0, 0.0, 4.0, 4.0, 2.0, 1.0, 0.0, 2.0, 0.0, 2.0, 1.0, 1.0, 1.0, 2.0, 4.0, 2.0, 0.0, 1.0, 0.0, 1.0, 1.0, 2.0, 4.0, 1.0, 0.0, 0.0, 0.0, 0.0, 0.0, 4.0, 0.0, 4.0, 0.0, 0.0, 1.0, 0.0, 0.0, 2.0, 0.0, 2.0, 1.0, 0.0, 1.0, 1.0, 4.0, 0.0, 1.0, 0.0, 1.0, 0.0, 1.0, 2.0, 2.0, 0.0, 1.0, 0.0, 2.0, 2.0, 1.0, 2.0, 2.0, 4.0, 0.0, 4.0, 0.0, 0.0, 0.0, 2.0, 2.0, 0.0, 0.0, 1.0, 0.0, 1.0, 0.0, 4.0, 0.0, 2.0, 4.0, 1.0, 0.0, 2.0, 2.0, 2.0, 2.0, 0.0, 0.0, 1.0, 4.0, 0.0, 0.0, 2.0, 2.0, 2.0, 4.0, 1.0, 0.0, 0.0, 0.0, 4.0, 2.0, 0.0, 1.0, 4.0, 0.0, 1.0, 1.0, 2.0, 2.0, 2.0, 4.0, 1.0, 2.0, 0.0, 2.0, 0.0, 1.0, 2.0, 0.0, 0.0, 1.0, 0.0, 1.0, 0.0, 1.0, 4.0, 1.0, 0.0, 1.0, 2.0, 0.0, 2.0, 2.0, 1.0, 0.0, 1.0, 0.0, 2.0, 0.0, 2.0, 1.0, 4.0, 2.0, 2.0, 0.0, 0.0, 2.0, 2.0, 1.0, 0.0, 2.0, 0.0, 4.0, 4.0, 0.0, 1.0, 1.0, 2.0, 1.0, 1.0, 0.0, 2.0, 2.0, 1.0, 2.0, 1.0, 1.0, 2.0, 0.0, 2.0, 2.0, 1.0, 0.0, 1.0, 1.0, 1.0, 4.0, 1.0, 1.0, 0.0, 0.0, 1.0, 2.0, 2.0, 1.0, 1.0, 4.0, 4.0, 2.0, 4.0, 2.0, 4.0, 1.0, 4.0, 1.0, 2.0, 0.0, 1.0, 2.0, 1.0, 4.0, 2.0, 0.0, 1.0, 0.0, 4.0, 0.0, 4.0, 4.0, 0.0, 4.0, 2.0, 0.0, 4.0, 0.0, 1.0, 0.0, 2.0, 0.0, 2.0, 0.0, 2.0, 0.0, 1.0, 1.0, 0.0, 0.0, 0.0, 4.0, 2.0, 0.0, 1.0, 1.0, 4.0, 0.0, 0.0, 0.0, 0.0, 0.0, 1.0, 1.0, 1.0, 4.0, 2.0, 2.0, 0.0, 1.0, 0.0, 2.0, 2.0, 1.0, 1.0, 2.0, 0.0, 0.0, 2.0, 2.0, 0.0, 1.0, 2.0, 0.0, 2.0, 0.0, 0.0, 0.0, 0.0, 0.0, 0.0, 2.0, 2.0, 0.0, 1.0, 1.0, 0.0, 2.0, 0.0, 1.0, 0.0, 2.0, 1.0, 2.0, 0.0, 0.0, 2.0, 0.0, 0.0, 4.0, 0.0, 4.0, 2.0, 0.0, 4.0, 2.0, 1.0, 2.0, 1.0, 1.0, 2.0, 2.0, 1.0, 1.0, 0.0, 4.0, 4.0, 0.0, 1.0, 0.0, 2.0, 1.0, 1.0, 0.0, 1.0, 0.0, 0.0, 2.0, 0.0, 2.0, 4.0, 4.0, 4.0, 2.0, 0.0, 1.0, 4.0, 0.0, 1.0, 2.0, 0.0, 1.0, 0.0, 0.0, 0.0, 1.0, 2.0, 1.0, 0.0, 4.0, 2.0, 1.0, 2.0, 2.0, 0.0, 1.0, 2.0, 2.0, 2.0, 1.0, 1.0, 4.0, 0.0, 4.0, 0.0, 0.0, 0.0, 0.0, 0.0, 0.0, 0.0, 1.0, 0.0, 4.0, 0.0, 1.0, 2.0, 1.0, 0.0, 0.0, 0.0, 4.0, 2.0, 0.0, 2.0, 1.0, 4.0, 1.0, 2.0, 2.0, 0.0, 2.0, 2.0, 2.0, 2.0, 1.0, 4.0, 1.0, 0.0, 0.0, 4.0, 1.0, 2.0, 1.0, 4.0, 0.0, 1.0, 0.0, 2.0, 2.0, 1.0, 4.0, 0.0, 1.0, 2.0, 1.0, 2.0, 2.0, 2.0, 4.0, 1.0, 4.0, 0.0, 2.0, 2.0, 2.0, 1.0, 0.0, 1.0, 4.0, 4.0, 1.0, 2.0, 1.0, 0.0, 4.0, 1.0, 4.0, 1.0, 2.0, 0.0, 1.0, 0.0, 2.0, 1.0, 0.0, 1.0, 2.0, 0.0, 4.0, 2.0, 0.0, 0.0, 0.0, 2.0, 2.0, 0.0, 0.0, 0.0, 2.0, 0.0, 0.0, 4.0, 0.0, 2.0, 2.0, 4.0, 0.0, 4.0, 1.0, 1.0, 4.0, 0.0, 4.0, 4.0, 2.0, 2.0, 0.0, 1.0, 2.0, 0.0, 1.0, 4.0, 0.0, 0.0, 2.0, 0.0, 4.0, 0.0, 4.0, 2.0, 4.0, 0.0, 4.0, 1.0, 0.0, 4.0, 0.0, 0.0, 1.0, 2.0, 1.0, 4.0, 2.0, 1.0, 2.0, 0.0, 0.0, 0.0, 1.0, 0.0, 1.0, 1.0, 4.0, 0.0, 1.0, 0.0, 4.0, 2.0, 4.0, 1.0, 1.0, 2.0, 2.0, 0.0, 2.0, 0.0, 0.0, 0.0, 1.0, 4.0, 0.0, 2.0, 0.0, 2.0, 1.0, 4.0, 0.0, 1.0, 0.0, 1.0, 0.0, 2.0, 0.0, 1.0, 4.0, 0.0, 2.0, 2.0, 1.0, 0.0, 0.0, 0.0, 4.0, 1.0, 1.0, 1.0, 1.0, 0.0, 0.0, 0.0, 2.0, 1.0, 4.0, 0.0, 2.0, 2.0, 2.0, 2.0, 4.0, 1.0, 1.0, 2.0, 0.0, 2.0, 4.0, 2.0, 0.0, 1.0, 2.0, 0.0, 4.0, 1.0, 0.0, 2.0, 0.0, 2.0, 2.0, 1.0, 4.0, 2.0, 0.0, 2.0, 2.0, 0.0, 1.0, 4.0, 1.0, 0.0, 4.0, 2.0, 4.0, 1.0, 4.0, 4.0, 2.0, 0.0, 0.0, 0.0, 2.0, 1.0, 2.0, 0.0, 4.0, 0.0, 0.0, 2.0, 1.0, 1.0, 2.0, 1.0, 2.0, 0.0, 2.0, 0.0, 1.0, 2.0, 1.0, 4.0, 0.0, 0.0, 4.0, 2.0, 1.0, 2.0, 2.0, 1.0, 4.0, 4.0, 1.0, 1.0, 4.0, 2.0, 0.0, 0.0, 2.0, 2.0, 0.0, 1.0, 0.0, 0.0, 1.0, 4.0, 0.0, 1.0, 0.0, 2.0, 4.0, 1.0, 4.0, 4.0, 0.0, 1.0, 1.0, 1.0, 1.0, 4.0, 2.0, 4.0, 4.0, 2.0, 0.0, 2.0, 2.0, 4.0, 0.0, 0.0, 1.0, 1.0, 1.0, 2.0, 4.0, 1.0, 2.0, 2.0, 4.0, 0.0, 0.0, 0.0, 4.0, 4.0, 0.0, 4.0, 2.0, 4.0, 1.0, 0.0, 2.0, 0.0, 1.0, 0.0, 4.0, 1.0, 0.0, 0.0, 1.0, 4.0, 0.0, 4.0, 0.0, 1.0, 4.0, 0.0, 2.0, 2.0, 0.0, 2.0, 2.0, 0.0, 1.0, 1.0, 0.0, 0.0, 1.0, 2.0, 0.0, 2.0, 1.0, 4.0, 2.0, 0.0, 2.0, 0.0, 0.0, 0.0, 1.0, 2.0, 2.0, 0.0, 0.0, 0.0, 1.0]\n",
            "[0.0, 1.0, 2.0, 4.0]\n"
          ]
        },
        {
          "output_type": "display_data",
          "data": {
            "text/plain": [
              "<Figure size 800x600 with 1 Axes>"
            ],
            "image/png": "[encoded data removed]"
          },
          "metadata": {}
        }
      ]
    }
  ],
  "metadata": {
    "kernelspec": {
      "display_name": "Python 3 (ipykernel)",
      "language": "python",
      "name": "python3"
    },
    "language_info": {
      "codemirror_mode": {
        "name": "ipython",
        "version": 3
      },
      "file_extension": ".py",
      "mimetype": "text/x-python",
      "name": "python",
      "nbconvert_exporter": "python",
      "pygments_lexer": "ipython3",
      "version": "3.12.4"
    },
    "colab": {
      "provenance": []
    }
  },
  "nbformat": 4,
  "nbformat_minor": 5
}