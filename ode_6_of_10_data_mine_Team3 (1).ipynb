{
 "cells": [
  {
   "cell_type": "code",
   "execution_count": 15,
   "id": "65a47340-96f7-4dd5-883b-ff240a426d98",
   "metadata": {},
   "outputs": [
    {
     "name": "stdout",
     "output_type": "stream",
     "text": [
      "root\n",
      " |-- id: string (nullable = true)\n",
      " |-- text: string (nullable = true)\n",
      "\n",
      "+-------+------------------------------------------------------------------------------------------------------------------------------------------------------------------------------------------------------------------------------------------------------------------------------------------------------------------------------------------+\n",
      "|id     |text                                                                                                                                                                                                                                                                                                                                      |\n",
      "+-------+------------------------------------------------------------------------------------------------------------------------------------------------------------------------------------------------------------------------------------------------------------------------------------------------------------------------------------------+\n",
      "|id02310|Still, as I urged our leaving Ireland with such inquietude and impatience, my father thought it best to yield.                                                                                                                                                                                                                            |\n",
      "|id24541|If a fire wanted fanning, it could readily be fanned with a newspaper, and as the government grew weaker, I have no doubt that leather and iron acquired durability in proportion, for, in a very short time, there was not a pair of bellows in all Rotterdam that ever stood in need of a stitch or required the assistance of a hammer.|\n",
      "|id00134|And when they had broken down the frail door they found only this: two cleanly picked human skeletons on the earthen floor, and a number of singular beetles crawling in the shadowy corners.                                                                                                                                             |\n",
      "|id27757|While I was thinking how I should possibly manage without them, one actually tumbled out of my head, and, rolling down the steep side of the steeple, lodged in the rain gutter which ran along the eaves of the main building.                                                                                                           |\n",
      "|id04081|I am not sure to what limit his knowledge may extend.                                                                                                                                                                                                                                                                                     |\n",
      "+-------+------------------------------------------------------------------------------------------------------------------------------------------------------------------------------------------------------------------------------------------------------------------------------------------------------------------------------------------+\n",
      "only showing top 5 rows\n",
      "\n"
     ]
    }
   ],
   "source": [
    "from pyspark.sql import SparkSession\n",
    "\n",
    "# Initialize Spark session\n",
    "spark = SparkSession.builder.appName(\"SpookyAuthorIdentification\").getOrCreate()\n",
    "\n",
    "# Load the CSV data into a Spark DataFrame\n",
    "file_path = \"test.csv\"\n",
    "df = spark.read.csv(file_path, header=True, inferSchema=True)\n",
    "\n",
    "# Show the schema and the first few rows of the Spark DataFrame\n",
    "df.printSchema()\n",
    "df.show(5, truncate=False)\n"
   ]
  },
  {
   "cell_type": "code",
   "execution_count": 19,
   "id": "eac0c8f2-14e5-499e-b9ff-0e9b76c06308",
   "metadata": {},
   "outputs": [
    {
     "name": "stdout",
     "output_type": "stream",
     "text": [
      "+---------------------------------------------------------------------------------------------------------------------------------------------------------------------------------------------------------------------------------------------------------------------------------------------------------------------------------------------------------------------------------------------------------+\n",
      "|tokens                                                                                                                                                                                                                                                                                                                                                                                                   |\n",
      "+---------------------------------------------------------------------------------------------------------------------------------------------------------------------------------------------------------------------------------------------------------------------------------------------------------------------------------------------------------------------------------------------------------+\n",
      "|[still,, as, i, urged, our, leaving, ireland, with, such, inquietude, and, impatience,, my, father, thought, it, best, to, yield.]                                                                                                                                                                                                                                                                       |\n",
      "|[if, a, fire, wanted, fanning,, it, could, readily, be, fanned, with, a, newspaper,, and, as, the, government, grew, weaker,, i, have, no, doubt, that, leather, and, iron, acquired, durability, in, proportion,, for,, in, a, very, short, time,, there, was, not, a, pair, of, bellows, in, all, rotterdam, that, ever, stood, in, need, of, a, stitch, or, required, the, assistance, of, a, hammer.]|\n",
      "|[and, when, they, had, broken, down, the, frail, door, they, found, only, this:, two, cleanly, picked, human, skeletons, on, the, earthen, floor,, and, a, number, of, singular, beetles, crawling, in, the, shadowy, corners.]                                                                                                                                                                          |\n",
      "|[while, i, was, thinking, how, i, should, possibly, manage, without, them,, one, actually, tumbled, out, of, my, head,, and,, rolling, down, the, steep, side, of, the, steeple,, lodged, in, the, rain, gutter, which, ran, along, the, eaves, of, the, main, building.]                                                                                                                                |\n",
      "|[i, am, not, sure, to, what, limit, his, knowledge, may, extend.]                                                                                                                                                                                                                                                                                                                                        |\n",
      "+---------------------------------------------------------------------------------------------------------------------------------------------------------------------------------------------------------------------------------------------------------------------------------------------------------------------------------------------------------------------------------------------------------+\n",
      "only showing top 5 rows\n",
      "\n"
     ]
    }
   ],
   "source": [
    "from pyspark.ml.feature import Tokenizer\n",
    "\n",
    "# Tokenize the text column\n",
    "tokenizer = Tokenizer(inputCol=\"text\", outputCol=\"tokens\")\n",
    "df_tokens = tokenizer.transform(df)\n",
    "\n",
    "# Show the tokenized text\n",
    "df_tokens.select(\"tokens\").show(5, truncate=False)\n"
   ]
  },
  {
   "cell_type": "code",
   "execution_count": 20,
   "id": "01f246fc-a85f-43a8-a09d-816e70ddff72",
   "metadata": {},
   "outputs": [
    {
     "name": "stdout",
     "output_type": "stream",
     "text": [
      "+-------------------------------------------------------------------------------------------------------------------------------------------------------------------------------------------------------------------------------------------------+\n",
      "|filtered_tokens                                                                                                                                                                                                                                  |\n",
      "+-------------------------------------------------------------------------------------------------------------------------------------------------------------------------------------------------------------------------------------------------+\n",
      "|[still,, urged, leaving, ireland, inquietude, impatience,, father, thought, best, yield.]                                                                                                                                                        |\n",
      "|[fire, wanted, fanning,, readily, fanned, newspaper,, government, grew, weaker,, doubt, leather, iron, acquired, durability, proportion,, for,, short, time,, pair, bellows, rotterdam, ever, stood, need, stitch, required, assistance, hammer.]|\n",
      "|[broken, frail, door, found, this:, two, cleanly, picked, human, skeletons, earthen, floor,, number, singular, beetles, crawling, shadowy, corners.]                                                                                             |\n",
      "|[thinking, possibly, manage, without, them,, one, actually, tumbled, head,, and,, rolling, steep, side, steeple,, lodged, rain, gutter, ran, along, eaves, main, building.]                                                                      |\n",
      "|[sure, limit, knowledge, may, extend.]                                                                                                                                                                                                           |\n",
      "+-------------------------------------------------------------------------------------------------------------------------------------------------------------------------------------------------------------------------------------------------+\n",
      "only showing top 5 rows\n",
      "\n"
     ]
    }
   ],
   "source": [
    "from pyspark.ml.feature import StopWordsRemover\n",
    "\n",
    "# Customize stopwords list to include pronouns\n",
    "stopwords = StopWordsRemover.loadDefaultStopWords(\"english\") + ['I', 'you', 'he', 'she', 'it', 'we', 'they', 'me', 'him', 'her']\n",
    "\n",
    "# Remove stopwords from the tokenized text\n",
    "remover = StopWordsRemover(inputCol=\"tokens\", outputCol=\"filtered_tokens\", stopWords=stopwords)\n",
    "df_cleaned = remover.transform(df_tokens)\n",
    "\n",
    "# Show the cleaned tokens\n",
    "df_cleaned.select(\"filtered_tokens\").show(5, truncate=False)\n"
   ]
  },
  {
   "cell_type": "code",
   "execution_count": null,
   "id": "8b176dde-dcbc-4edd-bd29-79d42e29ba4b",
   "metadata": {},
   "outputs": [],
   "source": []
  }
 ],
 "metadata": {
  "kernelspec": {
   "display_name": "Python 3 (ipykernel)",
   "language": "python",
   "name": "python3"
  },
  "language_info": {
   "codemirror_mode": {
    "name": "ipython",
    "version": 3
   },
   "file_extension": ".py",
   "mimetype": "text/x-python",
   "name": "python",
   "nbconvert_exporter": "python",
   "pygments_lexer": "ipython3",
   "version": "3.12.5"
  }
 },
 "nbformat": 4,
 "nbformat_minor": 5
}
